{
 "cells": [
  {
   "cell_type": "code",
   "execution_count": 4,
   "metadata": {},
   "outputs": [],
   "source": [
    "\"\"\"\n",
    "Example using Pandas with the Iris dataset.\n",
    "\"\"\"\n",
    "\n",
    "import pandas as pd\n",
    "from pysuricata import generate_report\n",
    "from IPython.display import IFrame\n",
    "\n",
    "IRIS_URL = \"https://raw.githubusercontent.com/mwaskom/seaborn-data/master/iris.csv\""
   ]
  },
  {
   "cell_type": "code",
   "execution_count": 5,
   "metadata": {},
   "outputs": [
    {
     "name": "stderr",
     "output_type": "stream",
     "text": [
      "INFO:pysuricata.logger:summary_statistics executed in 0.0050 seconds\n",
      "INFO:pysuricata.logger:missing_values executed in 0.0010 seconds\n",
      "INFO:pysuricata.logger:correlation_matrix executed in 0.0000 seconds\n"
     ]
    },
    {
     "name": "stdout",
     "output_type": "stream",
     "text": [
      "Pandas report saved as 'iris_report.html'\n"
     ]
    }
   ],
   "source": [
    "# Load Iris dataset directly using Pandas.\n",
    "iris_df = pd.read_csv(IRIS_URL)\n",
    "html_report = generate_report(iris_df, output_file=\"iris_report.html\")\n",
    "print(\"Pandas report saved as 'iris_report.html'\")"
   ]
  },
  {
   "cell_type": "code",
   "execution_count": 6,
   "metadata": {},
   "outputs": [
    {
     "data": {
      "text/html": [
       "\n",
       "        <iframe\n",
       "            width=\"800\"\n",
       "            height=\"600\"\n",
       "            src=\"iris_report.html\"\n",
       "            frameborder=\"0\"\n",
       "            allowfullscreen\n",
       "            \n",
       "        ></iframe>\n",
       "        "
      ],
      "text/plain": [
       "<IPython.lib.display.IFrame at 0x1d29ecfbe30>"
      ]
     },
     "execution_count": 6,
     "metadata": {},
     "output_type": "execute_result"
    }
   ],
   "source": [
    "IFrame(src=\"iris_report.html\", width=800, height=600)"
   ]
  },
  {
   "cell_type": "code",
   "execution_count": null,
   "metadata": {},
   "outputs": [],
   "source": []
  }
 ],
 "metadata": {
  "kernelspec": {
   "display_name": ".venv",
   "language": "python",
   "name": "python3"
  },
  "language_info": {
   "codemirror_mode": {
    "name": "ipython",
    "version": 3
   },
   "file_extension": ".py",
   "mimetype": "text/x-python",
   "name": "python",
   "nbconvert_exporter": "python",
   "pygments_lexer": "ipython3",
   "version": "3.12.9"
  }
 },
 "nbformat": 4,
 "nbformat_minor": 2
}
