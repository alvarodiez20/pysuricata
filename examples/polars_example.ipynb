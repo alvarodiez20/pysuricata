{
 "cells": [
  {
   "cell_type": "code",
   "execution_count": 1,
   "metadata": {},
   "outputs": [
    {
     "name": "stderr",
     "output_type": "stream",
     "text": [
      "c:\\Users\\alvar\\Desktop\\projects\\pysuricata\\.venv\\Lib\\site-packages\\dask\\dataframe\\__init__.py:42: FutureWarning: \n",
      "Dask dataframe query planning is disabled because dask-expr is not installed.\n",
      "\n",
      "You can install it with `pip install dask[dataframe]` or `conda install dask`.\n",
      "This will raise in a future version.\n",
      "\n",
      "  warnings.warn(msg, FutureWarning)\n"
     ]
    }
   ],
   "source": [
    "\"\"\"\n",
    "Example using Polars with the Iris dataset.\n",
    "\"\"\"\n",
    "\n",
    "import polars as pl\n",
    "from pysuricata import generate_report\n",
    "from IPython.display import IFrame\n",
    "\n",
    "TITANIC_URL = (\n",
    "    \"https://raw.githubusercontent.com/mwaskom/seaborn-data/master/titanic.csv\"\n",
    ")"
   ]
  },
  {
   "cell_type": "code",
   "execution_count": 2,
   "metadata": {},
   "outputs": [
    {
     "name": "stderr",
     "output_type": "stream",
     "text": [
      "INFO:pysuricata.logger:summary_statistics executed in 0.0060 seconds\n",
      "INFO:pysuricata.logger:missing_values executed in 0.0030 seconds\n",
      "INFO:pysuricata.logger:correlation_matrix executed in 0.0020 seconds\n"
     ]
    },
    {
     "name": "stdout",
     "output_type": "stream",
     "text": [
      "Polars report saved as 'titanic_polars_report.html'\n"
     ]
    }
   ],
   "source": [
    "# Load Iris dataset directly using Polars' CSV reader.\n",
    "titanic_pdf = pl.read_csv(TITANIC_URL)\n",
    "html_report = generate_report(titanic_pdf, output_file=\"titanic_polars_report.html\")\n",
    "print(\"Polars report saved as 'titanic_polars_report.html'\")"
   ]
  },
  {
   "cell_type": "code",
   "execution_count": 3,
   "metadata": {},
   "outputs": [
    {
     "data": {
      "text/html": [
       "\n",
       "        <iframe\n",
       "            width=\"800\"\n",
       "            height=\"600\"\n",
       "            src=\"titanic_polars_report.html\"\n",
       "            frameborder=\"0\"\n",
       "            allowfullscreen\n",
       "            \n",
       "        ></iframe>\n",
       "        "
      ],
      "text/plain": [
       "<IPython.lib.display.IFrame at 0x19be4233920>"
      ]
     },
     "execution_count": 3,
     "metadata": {},
     "output_type": "execute_result"
    }
   ],
   "source": [
    "IFrame(src=\"titanic_polars_report.html\", width=800, height=600)"
   ]
  }
 ],
 "metadata": {
  "kernelspec": {
   "display_name": ".venv",
   "language": "python",
   "name": "python3"
  },
  "language_info": {
   "codemirror_mode": {
    "name": "ipython",
    "version": 3
   },
   "file_extension": ".py",
   "mimetype": "text/x-python",
   "name": "python",
   "nbconvert_exporter": "python",
   "pygments_lexer": "ipython3",
   "version": "3.12.9"
  }
 },
 "nbformat": 4,
 "nbformat_minor": 2
}
